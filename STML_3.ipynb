{
  "nbformat": 4,
  "nbformat_minor": 0,
  "metadata": {
    "colab": {
      "provenance": [],
      "authorship_tag": "ABX9TyMK+J0vT834cH4Gg7tcWmKv",
      "include_colab_link": true
    },
    "kernelspec": {
      "name": "python3",
      "display_name": "Python 3"
    },
    "language_info": {
      "name": "python"
    }
  },
  "cells": [
    {
      "cell_type": "markdown",
      "metadata": {
        "id": "view-in-github",
        "colab_type": "text"
      },
      "source": [
        "<a href=\"https://colab.research.google.com/github/sherlinvarshitha/STML-Ass/blob/main/STML_3.ipynb\" target=\"_parent\"><img src=\"https://colab.research.google.com/assets/colab-badge.svg\" alt=\"Open In Colab\"/></a>"
      ]
    },
    {
      "cell_type": "code",
      "execution_count": null,
      "metadata": {
        "id": "C4CtKnfkFsbW",
        "colab": {
          "base_uri": "https://localhost:8080/"
        },
        "outputId": "ce7cf05d-b67e-421e-99e0-6ef79f15878d"
      },
      "outputs": [
        {
          "output_type": "stream",
          "name": "stdout",
          "text": [
            "Mounted at /content/drive\n"
          ]
        }
      ],
      "source": [
        "from google . colab import drive\n",
        "drive .mount ('/content/drive' )"
      ]
    },
    {
      "cell_type": "code",
      "source": [
        "import pandas as pd\n",
        "from scipy.stats import norm\n",
        "california_housing = pd.read_csv('/content/sample_data/california_housing_train.csv' )\n",
        "print (california_housing)\n",
        "print (california_housing.columns)"
      ],
      "metadata": {
        "colab": {
          "base_uri": "https://localhost:8080/"
        },
        "id": "dqBTa5MtTGFb",
        "outputId": "5a34a07f-9ec6-4397-c249-b474b09777c3"
      },
      "execution_count": null,
      "outputs": [
        {
          "output_type": "stream",
          "name": "stdout",
          "text": [
            "       longitude  latitude  housing_median_age  total_rooms  total_bedrooms  \\\n",
            "0        -114.31     34.19                15.0       5612.0          1283.0   \n",
            "1        -114.47     34.40                19.0       7650.0          1901.0   \n",
            "2        -114.56     33.69                17.0        720.0           174.0   \n",
            "3        -114.57     33.64                14.0       1501.0           337.0   \n",
            "4        -114.57     33.57                20.0       1454.0           326.0   \n",
            "...          ...       ...                 ...          ...             ...   \n",
            "16995    -124.26     40.58                52.0       2217.0           394.0   \n",
            "16996    -124.27     40.69                36.0       2349.0           528.0   \n",
            "16997    -124.30     41.84                17.0       2677.0           531.0   \n",
            "16998    -124.30     41.80                19.0       2672.0           552.0   \n",
            "16999    -124.35     40.54                52.0       1820.0           300.0   \n",
            "\n",
            "       population  households  median_income  median_house_value  \n",
            "0          1015.0       472.0         1.4936             66900.0  \n",
            "1          1129.0       463.0         1.8200             80100.0  \n",
            "2           333.0       117.0         1.6509             85700.0  \n",
            "3           515.0       226.0         3.1917             73400.0  \n",
            "4           624.0       262.0         1.9250             65500.0  \n",
            "...           ...         ...            ...                 ...  \n",
            "16995       907.0       369.0         2.3571            111400.0  \n",
            "16996      1194.0       465.0         2.5179             79000.0  \n",
            "16997      1244.0       456.0         3.0313            103600.0  \n",
            "16998      1298.0       478.0         1.9797             85800.0  \n",
            "16999       806.0       270.0         3.0147             94600.0  \n",
            "\n",
            "[17000 rows x 9 columns]\n",
            "Index(['longitude', 'latitude', 'housing_median_age', 'total_rooms',\n",
            "       'total_bedrooms', 'population', 'households', 'median_income',\n",
            "       'median_house_value'],\n",
            "      dtype='object')\n"
          ]
        }
      ]
    },
    {
      "cell_type": "code",
      "source": [
        "import pandas as pd\n",
        "from scipy. stats import norm\n",
        "california_housing=pd.read_csv( '/content/sample_data/california_housing_train.csv' )\n",
        "columns= ( 'latitude ' , 'total_rooms' , 'housing_median_age' , 'total_bedrooms' )\n",
        "params={}\n",
        "for col in columns:\n",
        "  if col in california_housing.columns:\n",
        "    data=california_housing[col]\n",
        "    data_clean=data.dropna()\n",
        "    mu,sigma=norm.fit(data_clean)\n",
        "    params[col]=(mu,sigma)\n",
        "else:\n",
        "  print(f\"Column ' {col}' not found in the DataFrame.\" )\n",
        "for col, (mu, sigma ) in params. items() :\n",
        "  print(f\"Column : (col )\" )\n",
        "  print(f\" Mean (mu ): mu: 4f)\" )\n",
        "  print(f\"Standard Deviation (sigma): (sigma : 4f)\" )\n",
        "  print( \"----------------------\" )"
      ],
      "metadata": {
        "colab": {
          "base_uri": "https://localhost:8080/"
        },
        "id": "dGFso0sGTg3P",
        "outputId": "58a7782a-42d0-4a73-8848-4e91efd327d5"
      },
      "execution_count": null,
      "outputs": [
        {
          "output_type": "stream",
          "name": "stdout",
          "text": [
            "Column ' total_bedrooms' not found in the DataFrame.\n",
            "Column : (col )\n",
            " Mean (mu ): mu: 4f)\n",
            "Standard Deviation (sigma): (sigma : 4f)\n",
            "----------------------\n",
            "Column : (col )\n",
            " Mean (mu ): mu: 4f)\n",
            "Standard Deviation (sigma): (sigma : 4f)\n",
            "----------------------\n",
            "Column : (col )\n",
            " Mean (mu ): mu: 4f)\n",
            "Standard Deviation (sigma): (sigma : 4f)\n",
            "----------------------\n"
          ]
        }
      ]
    },
    {
      "cell_type": "code",
      "source": [
        "import numpy as np\n",
        "from scipy.stats import norm\n",
        "california_housing=pd.read_csv( '/content/sample_data/california_housing_train.csv' )\n",
        "latitude=california_housing['latitude']\n",
        "mu,sigma=norm.fit(latitude)\n",
        "values=[50,75,80]\n",
        "log_likelihoods= [norm.logpdf(x, mu, sigma) for x in values]\n",
        "print(\"Log-likelihood va lues: \" )\n",
        "print(\"Value 50 : \",log_likelihoods[0])\n",
        "print(\"Value 75:\",log_likelihoods[1])\n",
        "print(\"Value 80 :\", log_likelihoods[2])\n",
        "print(\"Maximum likelihood value :\" ,mu)"
      ],
      "metadata": {
        "colab": {
          "base_uri": "https://localhost:8080/"
        },
        "id": "u-Y-2xjWUz2w",
        "outputId": "3ac1b651-84f3-4ed0-fe01-a18dfba14c9f"
      },
      "execution_count": null,
      "outputs": [
        {
          "output_type": "stream",
          "name": "stdout",
          "text": [
            "Log-likelihood va lues: \n",
            "Value 50 :  -24.296280344842923\n",
            "Value 75: -171.37954271172316\n",
            "Value 80 : -217.2149291939087\n",
            "Maximum likelihood value : 35.62522470588235\n"
          ]
        }
      ]
    },
    {
      "cell_type": "code",
      "source": [
        "import numpy as np\n",
        "import matplotlib.pyplot as plt\n",
        "from scipy. stats import gaussian_kde\n",
        "california_housing= pd.read_csv('/content/sample_data/california_housing_train.csv')\n",
        "columns= ('latitude','total_rooms','housing_median_age','total_bedrooms')\n",
        "for col in columns:\n",
        "  data=california_housing[col]\n",
        "  data_cleaned=data.replace([np.inf, -np.inf], np.nan ) .dropna()\n",
        "  bins=[5, 10, 15, 20]\n",
        "  hist, bin_edges =np. histogram(data_cleaned, bins=bins)\n",
        "  kde=gaussian_kde(data_cleaned)\n",
        "  x= np.linspace (bin_edges[0] , bin_edges[1],100)\n",
        "  density=kde.evaluate(x)\n"
      ],
      "metadata": {
        "id": "o8M_dezaW9UA"
      },
      "execution_count": null,
      "outputs": []
    },
    {
      "cell_type": "code",
      "source": [
        "plt.plot(x, density, label=f\" Density of [ col]\" )\n",
        "plt.hist(data_cleaned, bins=bins, alpha=0.5, label= f\" Histogram of {col}\")\n",
        "plt.legend()\n",
        "plt.show()"
      ],
      "metadata": {
        "colab": {
          "base_uri": "https://localhost:8080/",
          "height": 430
        },
        "id": "EOMDYEPkZB1_",
        "outputId": "a3c8b132-8856-4978-9864-de7c3476a2f3"
      },
      "execution_count": null,
      "outputs": [
        {
          "output_type": "display_data",
          "data": {
            "text/plain": [
              "<Figure size 640x480 with 1 Axes>"
            ],
            "image/png": "[encoded data removed]"
          },
          "metadata": {}
        }
      ]
    }
  ]
}