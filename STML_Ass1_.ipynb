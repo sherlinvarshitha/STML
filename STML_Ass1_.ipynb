{
  "nbformat": 4,
  "nbformat_minor": 0,
  "metadata": {
    "colab": {
      "provenance": [],
      "authorship_tag": "ABX9TyNlB6Vj/kvTS4yVYxsxWYlE",
      "include_colab_link": true
    },
    "kernelspec": {
      "name": "python3",
      "display_name": "Python 3"
    },
    "language_info": {
      "name": "python"
    }
  },
  "cells": [
    {
      "cell_type": "markdown",
      "metadata": {
        "id": "view-in-github",
        "colab_type": "text"
      },
      "source": [
        "<a href=\"https://colab.research.google.com/github/sherlinvarshitha/STML-Ass/blob/main/STML_Ass1_.ipynb\" target=\"_parent\"><img src=\"https://colab.research.google.com/assets/colab-badge.svg\" alt=\"Open In Colab\"/></a>"
      ]
    },
    {
      "cell_type": "markdown",
      "source": [
        "**Q1**"
      ],
      "metadata": {
        "id": "RJGHHOkTdSBm"
      }
    },
    {
      "cell_type": "markdown",
      "source": [
        "Question 1"
      ],
      "metadata": {
        "id": "PwgKZ1ac59LK"
      }
    },
    {
      "cell_type": "code",
      "source": [
        "import pandas as pd\n",
        "import matplotlib.pyplot as plt\n",
        "X = [2.3, 2.5, 3.6, 2.8, 3.1, 2.9, 3.2, 2.7, 2.8, 3.0]\n",
        "\n",
        "# Plotting the histogram\n",
        "plt.hist(X, bins=5, density=True, color='green', edgecolor='black')\n",
        "plt.title('Histogram of X with 5 Bins')\n",
        "plt.xlabel('Value')\n",
        "plt.ylabel('Density')\n",
        "plt.show()"
      ],
      "metadata": {
        "colab": {
          "base_uri": "https://localhost:8080/",
          "height": 472
        },
        "id": "Ko49hAAt6Bzz",
        "outputId": "127a191c-d7a2-452a-b030-b8d96337cee1"
      },
      "execution_count": null,
      "outputs": [
        {
          "output_type": "display_data",
          "data": {
            "text/plain": [
              "<Figure size 640x480 with 1 Axes>"
            ],
            "image/png": "[encoded data removed]"
          },
          "metadata": {}
        }
      ]
    },
    {
      "cell_type": "markdown",
      "source": [
        "**Q2**"
      ],
      "metadata": {
        "id": "_RdOgMOEdISQ"
      }
    },
    {
      "cell_type": "markdown",
      "source": [],
      "metadata": {
        "id": "sDlIFjokdPD_"
      }
    },
    {
      "cell_type": "markdown",
      "source": [],
      "metadata": {
        "id": "2O2eRMnXdPom"
      }
    },
    {
      "cell_type": "code",
      "source": [
        "import numpy as np\n",
        "dv=[4,5,8,2,4,2,5]\n",
        "iv=[5,6,3,8,3,7,8]\n",
        "dv1=np.array(dv)\n",
        "iv1=np.array(iv)\n",
        "print(\"Mean of dv:\",np.mean(dv1))\n",
        "print(\"Mean of iv:\",np.mean(iv1))\n",
        "print(\"Median of dv:\",np.median(dv1))\n",
        "print(\"Median of iv:\",np.median(iv1))\n",
        "print(\"Mode of dv:\",np.argmax(np.bincount(dv1)))\n",
        "print(\"Mode of iv:\",np.argmax(np.bincount(iv1)))\n",
        "print(\"Variance of dv:\",np.var(dv1))\n",
        "print(\"Variance of iv:\",np.var(iv1))\n",
        "print(\"Standard deviation of dv:\",np.std(dv1))\n",
        "print(\"Standard deviation of iv:\",np.std(iv1))\n",
        "print(\"Range of dv:\",np.max(dv1)-np.min(dv1))\n",
        "print(\"Range of iv:\",np.max(iv1)-np.min(iv1))\n",
        "q1,q3=np.percentile(dv1,[25,75])\n",
        "iqr=q3-q1\n",
        "print(\"Interquartile range of dv:\",iqr)\n",
        "q1,q3=np.percentile(iv1,[25,75])\n",
        "iqr=q3-q1\n",
        "print(\"Interquartile range of iv:\",iqr)\n",
        "print(\"Skewness of dv:\",np.mean((dv1-np.mean(dv1))/np.std(dv1)))\n",
        "print(\"Skewness of iv:\",np.mean((iv1-np.mean(iv1))/np.std(iv1)))\n",
        "# print(\"Kurtosis of dv:\", kurtosis(dv1))\n",
        "# print(\"Kurtosis of iv:\", kurtosis(iv1))\n",
        "n = len(dv)\n",
        "mean = np.mean(dv)\n",
        "std_dev = np.std(dv, ddof=0)\n",
        "fourth_moment = np.sum((dv - mean)**4) / n\n",
        "kurtosis = (fourth_moment / std_dev**4) - 3\n",
        "print(\"Kurtosis dv:\", kurtosis)\n",
        "\n",
        "n = len(iv)\n",
        "# Mean of the data\n",
        "mean = np.mean(iv)\n",
        "# Standard deviation of the data\n",
        "std_dev = np.std(iv, ddof=0)\n",
        "# Fourth moment\n",
        "fourth_moment = np.sum((iv - mean)**4) / n\n",
        "# Kurtosis\n",
        "kurtosis = (fourth_moment / std_dev**4) - 3\n",
        "print(\"Kurtosis iv :\", kurtosis)"
      ],
      "metadata": {
        "colab": {
          "base_uri": "https://localhost:8080/"
        },
        "id": "9HSYpO-G4nIa",
        "outputId": "071ba593-9783-4c6c-ef69-cb690961edd1"
      },
      "execution_count": null,
      "outputs": [
        {
          "output_type": "stream",
          "name": "stdout",
          "text": [
            "Mean of dv: 4.285714285714286\n",
            "Mean of iv: 5.714285714285714\n",
            "Median of dv: 4.0\n",
            "Median of iv: 6.0\n",
            "Mode of dv: 2\n",
            "Mode of iv: 3\n",
            "Variance of dv: 3.6326530612244894\n",
            "Variance of iv: 3.918367346938776\n",
            "Standard deviation of dv: 1.9059520091609048\n",
            "Standard deviation of iv: 1.979486637221574\n",
            "Range of dv: 6\n",
            "Range of iv: 5\n",
            "Interquartile range of dv: 2.0\n",
            "Interquartile range of iv: 3.5\n",
            "Skewness of dv: 7.137148015447435e-17\n",
            "Skewness of iv: -6.344131569286608e-17\n",
            "Kurtosis dv: -0.34282287589950755\n",
            "Kurtosis iv : -1.4541015625\n"
          ]
        }
      ]
    },
    {
      "cell_type": "markdown",
      "source": [
        "**Q3**\n"
      ],
      "metadata": {
        "id": "0KCfmEHn5Prh"
      }
    },
    {
      "cell_type": "code",
      "source": [
        "import pandas as pd\n",
        "import numpy as np\n",
        "\n",
        "# Load the dataset\n",
        "df1 = pd.read_csv('/content/sample_data/california_housing_test.csv')\n",
        "print(df1)\n",
        "print(df1.describe())\n",
        "\n",
        "# Extract the columns\n",
        "lg = df1['longitude'].values\n",
        "la = df1['latitude'].values\n",
        "hma = df1['housing_median_age'].values\n",
        "tr = df1['total_rooms'].values\n",
        "tb = df1['total_bedrooms'].values\n",
        "po = df1['population'].values\n",
        "hh = df1['households'].values\n",
        "mi = df1['median_income'].values\n",
        "mhv = df1['median_house_value'].values\n",
        "\n",
        "# Helper function to calculate statistical metrics\n",
        "def calculate_statistics(data, name):\n",
        "    print(f\"Statistics for {name}:\")\n",
        "    print(f\"Mean: {np.mean(data):.2f}\")\n",
        "    print(f\"Median: {np.median(data):.2f}\")\n",
        "    print(f\"Variance: {np.var(data):.2f}\")\n",
        "    print(f\"Standard deviation: {np.std(data):.2f}\")\n",
        "    print(f\"Range: {np.max(data) - np.min(data):.2f}\")\n",
        "    q1, q3 = np.percentile(data, [25, 75])\n",
        "    iqr = q3 - q1\n",
        "    print(f\"Interquartile range: {iqr:.2f}\")\n",
        "    print(f\"Skewness: {np.mean((data - np.mean(data)) / np.std(data)):.2f}\")\n",
        "    n = len(data)\n",
        "    mean = np.mean(data)\n",
        "    std_dev = np.std(data, ddof=0)\n",
        "    fourth_moment = np.sum((data - mean)**4) / n\n",
        "    kurtosis = (fourth_moment / std_dev**4) - 3\n",
        "    print(\"Kurtosis:\", kurtosis)\n",
        "    print()\n",
        "\n",
        "# Calculate statistics for each column\n",
        "calculate_statistics(lg, 'longitude')\n",
        "calculate_statistics(la, 'latitude')\n",
        "calculate_statistics(hma, 'housing_median_age')\n",
        "calculate_statistics(tr, 'total_rooms')\n",
        "calculate_statistics(tb, 'total_bedrooms')\n",
        "calculate_statistics(po, 'population')\n",
        "calculate_statistics(hh, 'households')\n",
        "calculate_statistics(mi, 'median_income')\n",
        "calculate_statistics(mhv, 'median_house_value')"
      ],
      "metadata": {
        "colab": {
          "base_uri": "https://localhost:8080/"
        },
        "id": "fGkS9tfu5REJ",
        "outputId": "d637346d-de23-435d-ec4b-3ab39ef82f89"
      },
      "execution_count": null,
      "outputs": [
        {
          "output_type": "stream",
          "name": "stdout",
          "text": [
            "      longitude  latitude  housing_median_age  total_rooms  total_bedrooms  \\\n",
            "0       -122.05     37.37                27.0       3885.0           661.0   \n",
            "1       -118.30     34.26                43.0       1510.0           310.0   \n",
            "2       -117.81     33.78                27.0       3589.0           507.0   \n",
            "3       -118.36     33.82                28.0         67.0            15.0   \n",
            "4       -119.67     36.33                19.0       1241.0           244.0   \n",
            "...         ...       ...                 ...          ...             ...   \n",
            "2995    -119.86     34.42                23.0       1450.0           642.0   \n",
            "2996    -118.14     34.06                27.0       5257.0          1082.0   \n",
            "2997    -119.70     36.30                10.0        956.0           201.0   \n",
            "2998    -117.12     34.10                40.0         96.0            14.0   \n",
            "2999    -119.63     34.42                42.0       1765.0           263.0   \n",
            "\n",
            "      population  households  median_income  median_house_value  \n",
            "0         1537.0       606.0         6.6085            344700.0  \n",
            "1          809.0       277.0         3.5990            176500.0  \n",
            "2         1484.0       495.0         5.7934            270500.0  \n",
            "3           49.0        11.0         6.1359            330000.0  \n",
            "4          850.0       237.0         2.9375             81700.0  \n",
            "...          ...         ...            ...                 ...  \n",
            "2995      1258.0       607.0         1.1790            225000.0  \n",
            "2996      3496.0      1036.0         3.3906            237200.0  \n",
            "2997       693.0       220.0         2.2895             62000.0  \n",
            "2998        46.0        14.0         3.2708            162500.0  \n",
            "2999       753.0       260.0         8.5608            500001.0  \n",
            "\n",
            "[3000 rows x 9 columns]\n",
            "         longitude    latitude  housing_median_age   total_rooms  \\\n",
            "count  3000.000000  3000.00000         3000.000000   3000.000000   \n",
            "mean   -119.589200    35.63539           28.845333   2599.578667   \n",
            "std       1.994936     2.12967           12.555396   2155.593332   \n",
            "min    -124.180000    32.56000            1.000000      6.000000   \n",
            "25%    -121.810000    33.93000           18.000000   1401.000000   \n",
            "50%    -118.485000    34.27000           29.000000   2106.000000   \n",
            "75%    -118.020000    37.69000           37.000000   3129.000000   \n",
            "max    -114.490000    41.92000           52.000000  30450.000000   \n",
            "\n",
            "       total_bedrooms    population  households  median_income  \\\n",
            "count     3000.000000   3000.000000  3000.00000    3000.000000   \n",
            "mean       529.950667   1402.798667   489.91200       3.807272   \n",
            "std        415.654368   1030.543012   365.42271       1.854512   \n",
            "min          2.000000      5.000000     2.00000       0.499900   \n",
            "25%        291.000000    780.000000   273.00000       2.544000   \n",
            "50%        437.000000   1155.000000   409.50000       3.487150   \n",
            "75%        636.000000   1742.750000   597.25000       4.656475   \n",
            "max       5419.000000  11935.000000  4930.00000      15.000100   \n",
            "\n",
            "       median_house_value  \n",
            "count          3000.00000  \n",
            "mean         205846.27500  \n",
            "std          113119.68747  \n",
            "min           22500.00000  \n",
            "25%          121200.00000  \n",
            "50%          177650.00000  \n",
            "75%          263975.00000  \n",
            "max          500001.00000  \n",
            "Statistics for longitude:\n",
            "Mean: -119.59\n",
            "Median: -118.48\n",
            "Variance: 3.98\n",
            "Standard deviation: 1.99\n",
            "Range: 9.69\n",
            "Interquartile range: 3.79\n",
            "Skewness: -0.00\n",
            "Kurtosis: -1.3625007669256197\n",
            "\n",
            "Statistics for latitude:\n",
            "Mean: 35.64\n",
            "Median: 34.27\n",
            "Variance: 4.53\n",
            "Standard deviation: 2.13\n",
            "Range: 9.36\n",
            "Interquartile range: 3.76\n",
            "Skewness: 0.00\n",
            "Kurtosis: -1.1244987241902247\n",
            "\n",
            "Statistics for housing_median_age:\n",
            "Mean: 28.85\n",
            "Median: 29.00\n",
            "Variance: 157.59\n",
            "Standard deviation: 12.55\n",
            "Range: 51.00\n",
            "Interquartile range: 19.00\n",
            "Skewness: 0.00\n",
            "Kurtosis: -0.8044440474433032\n",
            "\n",
            "Statistics for total_rooms:\n",
            "Mean: 2599.58\n",
            "Median: 2106.00\n",
            "Variance: 4645033.75\n",
            "Standard deviation: 2155.23\n",
            "Range: 30444.00\n",
            "Interquartile range: 1728.00\n",
            "Skewness: -0.00\n",
            "Kurtosis: 32.044466669077906\n",
            "\n",
            "Statistics for total_bedrooms:\n",
            "Mean: 529.95\n",
            "Median: 437.00\n",
            "Variance: 172710.96\n",
            "Standard deviation: 415.59\n",
            "Range: 5417.00\n",
            "Interquartile range: 345.00\n",
            "Skewness: 0.00\n",
            "Kurtosis: 28.487531892484593\n",
            "\n",
            "Statistics for population:\n",
            "Mean: 1402.80\n",
            "Median: 1155.00\n",
            "Variance: 1061664.89\n",
            "Standard deviation: 1030.37\n",
            "Range: 11930.00\n",
            "Interquartile range: 962.75\n",
            "Skewness: 0.00\n",
            "Kurtosis: 16.413876182652206\n",
            "\n",
            "Statistics for households:\n",
            "Mean: 489.91\n",
            "Median: 409.50\n",
            "Variance: 133489.25\n",
            "Standard deviation: 365.36\n",
            "Range: 4928.00\n",
            "Interquartile range: 324.25\n",
            "Skewness: 0.00\n",
            "Kurtosis: 26.18366680809118\n",
            "\n",
            "Statistics for median_income:\n",
            "Mean: 3.81\n",
            "Median: 3.49\n",
            "Variance: 3.44\n",
            "Standard deviation: 1.85\n",
            "Range: 14.50\n",
            "Interquartile range: 2.11\n",
            "Skewness: 0.00\n",
            "Kurtosis: 5.6148122167243155\n",
            "\n",
            "Statistics for median_house_value:\n",
            "Mean: 205846.27\n",
            "Median: 177650.00\n",
            "Variance: 12791798338.67\n",
            "Standard deviation: 113100.83\n",
            "Range: 477501.00\n",
            "Interquartile range: 142775.00\n",
            "Skewness: 0.00\n",
            "Kurtosis: 0.3927409720063535\n",
            "\n"
          ]
        }
      ]
    }
  ]
}